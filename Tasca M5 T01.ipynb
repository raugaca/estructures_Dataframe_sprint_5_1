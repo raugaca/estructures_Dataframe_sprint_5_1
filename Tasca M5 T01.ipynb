{
 "cells": [
  {
   "cell_type": "markdown",
   "id": "cbbeecc4",
   "metadata": {},
   "source": [
    "## Descripció\n",
    "Exercicis d'Hipotesis Testing."
   ]
  },
  {
   "cell_type": "code",
   "execution_count": 32,
   "id": "e3746774",
   "metadata": {},
   "outputs": [],
   "source": [
    "import numpy as np\n",
    "import pandas as pd\n",
    "\n",
    "import matplotlib as mpl\n",
    "import matplotlib.pyplot as plt\n",
    "import seaborn as sns\n",
    "\n",
    "from scipy.stats import t"
   ]
  },
  {
   "cell_type": "code",
   "execution_count": 33,
   "id": "b851d8da",
   "metadata": {},
   "outputs": [
    {
     "data": {
      "text/html": [
       "<div>\n",
       "<style scoped>\n",
       "    .dataframe tbody tr th:only-of-type {\n",
       "        vertical-align: middle;\n",
       "    }\n",
       "\n",
       "    .dataframe tbody tr th {\n",
       "        vertical-align: top;\n",
       "    }\n",
       "\n",
       "    .dataframe thead th {\n",
       "        text-align: right;\n",
       "    }\n",
       "</style>\n",
       "<table border=\"1\" class=\"dataframe\">\n",
       "  <thead>\n",
       "    <tr style=\"text-align: right;\">\n",
       "      <th></th>\n",
       "      <th>Rk</th>\n",
       "      <th>Squad</th>\n",
       "      <th>Country</th>\n",
       "      <th>LgRk</th>\n",
       "      <th>MP</th>\n",
       "      <th>W</th>\n",
       "      <th>D</th>\n",
       "      <th>L</th>\n",
       "      <th>GF</th>\n",
       "      <th>GA</th>\n",
       "      <th>...</th>\n",
       "      <th>Pts</th>\n",
       "      <th>Pts/G</th>\n",
       "      <th>xG</th>\n",
       "      <th>xGA</th>\n",
       "      <th>xGD</th>\n",
       "      <th>xGD/90</th>\n",
       "      <th>Last 5</th>\n",
       "      <th>Attendance</th>\n",
       "      <th>Top Team Scorer</th>\n",
       "      <th>Goalkeeper</th>\n",
       "    </tr>\n",
       "  </thead>\n",
       "  <tbody>\n",
       "    <tr>\n",
       "      <th>0</th>\n",
       "      <td>1</td>\n",
       "      <td>Manchester City</td>\n",
       "      <td>ENG</td>\n",
       "      <td>1</td>\n",
       "      <td>37</td>\n",
       "      <td>28</td>\n",
       "      <td>6</td>\n",
       "      <td>3</td>\n",
       "      <td>96</td>\n",
       "      <td>24</td>\n",
       "      <td>...</td>\n",
       "      <td>90</td>\n",
       "      <td>2.43</td>\n",
       "      <td>86.1</td>\n",
       "      <td>26.8</td>\n",
       "      <td>59.3</td>\n",
       "      <td>1.60</td>\n",
       "      <td>W W W W D</td>\n",
       "      <td>52739</td>\n",
       "      <td>Kevin De Bruyne - 15</td>\n",
       "      <td>Ederson</td>\n",
       "    </tr>\n",
       "    <tr>\n",
       "      <th>1</th>\n",
       "      <td>2</td>\n",
       "      <td>Liverpool</td>\n",
       "      <td>ENG</td>\n",
       "      <td>2</td>\n",
       "      <td>36</td>\n",
       "      <td>26</td>\n",
       "      <td>8</td>\n",
       "      <td>2</td>\n",
       "      <td>89</td>\n",
       "      <td>24</td>\n",
       "      <td>...</td>\n",
       "      <td>86</td>\n",
       "      <td>2.39</td>\n",
       "      <td>84.6</td>\n",
       "      <td>33.1</td>\n",
       "      <td>51.4</td>\n",
       "      <td>1.43</td>\n",
       "      <td>W W W D W</td>\n",
       "      <td>53367</td>\n",
       "      <td>Mohamed Salah - 22</td>\n",
       "      <td>Alisson</td>\n",
       "    </tr>\n",
       "    <tr>\n",
       "      <th>2</th>\n",
       "      <td>3</td>\n",
       "      <td>Real Madrid</td>\n",
       "      <td>ESP</td>\n",
       "      <td>1</td>\n",
       "      <td>37</td>\n",
       "      <td>26</td>\n",
       "      <td>7</td>\n",
       "      <td>4</td>\n",
       "      <td>80</td>\n",
       "      <td>31</td>\n",
       "      <td>...</td>\n",
       "      <td>85</td>\n",
       "      <td>2.30</td>\n",
       "      <td>73.0</td>\n",
       "      <td>45.8</td>\n",
       "      <td>27.2</td>\n",
       "      <td>0.73</td>\n",
       "      <td>W W L W D</td>\n",
       "      <td>40624</td>\n",
       "      <td>Karim Benzema - 27</td>\n",
       "      <td>Thibaut Courtois</td>\n",
       "    </tr>\n",
       "    <tr>\n",
       "      <th>3</th>\n",
       "      <td>4</td>\n",
       "      <td>Bayern Munich</td>\n",
       "      <td>GER</td>\n",
       "      <td>1</td>\n",
       "      <td>34</td>\n",
       "      <td>24</td>\n",
       "      <td>5</td>\n",
       "      <td>5</td>\n",
       "      <td>97</td>\n",
       "      <td>37</td>\n",
       "      <td>...</td>\n",
       "      <td>77</td>\n",
       "      <td>2.26</td>\n",
       "      <td>88.1</td>\n",
       "      <td>37.1</td>\n",
       "      <td>51.0</td>\n",
       "      <td>1.50</td>\n",
       "      <td>W W L D D</td>\n",
       "      <td>33176</td>\n",
       "      <td>Robert Lewandowski - 35</td>\n",
       "      <td>Manuel Neuer</td>\n",
       "    </tr>\n",
       "    <tr>\n",
       "      <th>4</th>\n",
       "      <td>5</td>\n",
       "      <td>Paris S-G</td>\n",
       "      <td>FRA</td>\n",
       "      <td>1</td>\n",
       "      <td>37</td>\n",
       "      <td>25</td>\n",
       "      <td>8</td>\n",
       "      <td>4</td>\n",
       "      <td>85</td>\n",
       "      <td>36</td>\n",
       "      <td>...</td>\n",
       "      <td>83</td>\n",
       "      <td>2.24</td>\n",
       "      <td>71.6</td>\n",
       "      <td>38.1</td>\n",
       "      <td>33.4</td>\n",
       "      <td>0.90</td>\n",
       "      <td>W D D D W</td>\n",
       "      <td>41188</td>\n",
       "      <td>Kylian Mbappé - 25</td>\n",
       "      <td>Keylor Navas</td>\n",
       "    </tr>\n",
       "  </tbody>\n",
       "</table>\n",
       "<p>5 rows × 21 columns</p>\n",
       "</div>"
      ],
      "text/plain": [
       "   Rk            Squad Country  LgRk  MP   W  D  L  GF  GA  ...  Pts  Pts/G  \\\n",
       "0   1  Manchester City     ENG     1  37  28  6  3  96  24  ...   90   2.43   \n",
       "1   2        Liverpool     ENG     2  36  26  8  2  89  24  ...   86   2.39   \n",
       "2   3      Real Madrid     ESP     1  37  26  7  4  80  31  ...   85   2.30   \n",
       "3   4    Bayern Munich     GER     1  34  24  5  5  97  37  ...   77   2.26   \n",
       "4   5        Paris S-G     FRA     1  37  25  8  4  85  36  ...   83   2.24   \n",
       "\n",
       "     xG   xGA   xGD  xGD/90     Last 5 Attendance          Top Team Scorer  \\\n",
       "0  86.1  26.8  59.3    1.60  W W W W D      52739     Kevin De Bruyne - 15   \n",
       "1  84.6  33.1  51.4    1.43  W W W D W      53367       Mohamed Salah - 22   \n",
       "2  73.0  45.8  27.2    0.73  W W L W D      40624       Karim Benzema - 27   \n",
       "3  88.1  37.1  51.0    1.50  W W L D D      33176  Robert Lewandowski - 35   \n",
       "4  71.6  38.1  33.4    0.90  W D D D W      41188       Kylian Mbappé - 25   \n",
       "\n",
       "         Goalkeeper  \n",
       "0           Ederson  \n",
       "1           Alisson  \n",
       "2  Thibaut Courtois  \n",
       "3      Manuel Neuer  \n",
       "4      Keylor Navas  \n",
       "\n",
       "[5 rows x 21 columns]"
      ]
     },
     "execution_count": 33,
     "metadata": {},
     "output_type": "execute_result"
    }
   ],
   "source": [
    "Lligues = pd.read_csv('C:\\\\RAUL\\\\NISSAN\\\\GENERAL\\\\USB\\\\FORMACION\\\\BootCamp - Data Scientist_Analist\\\\IT Academy Cibernarium - Data Science\\\\Data Science Itinerario\\\\5.- Introducción al Test de Hipótesis y al Machine Learning\\\\Entrega\\\\Lligues europees UEFA.csv',  sep=';', encoding ='1252')\n",
    "Lligues.head()"
   ]
  },
  {
   "cell_type": "markdown",
   "id": "25f35ba5",
   "metadata": {},
   "source": [
    "# Exercici 1\n",
    "#### Descarrega el dataset adjunt de dades oficials de la UEFA i selecciona un atribut del conjunt de dades. Calcula el p-valor i digues si rebutja la hipòtesi nul·la agafant un alfa de 5%. "
   ]
  },
  {
   "cell_type": "markdown",
   "id": "e603ec4f",
   "metadata": {},
   "source": [
    "### **1.-** Formular la Hipòtesi Nul.la i la Alterativa:\n",
    "**Ho:** Volem confirmar si la mitja de GA a la lliga alemanya és igual a la mitja de totes les lligues-->> μ_Ger = μ_Eur  \n",
    "**Ha:** La Mitja de GA de la lliga alemanya igual o més gran de totes les lligues -->> μ_Ger > μ_Eur"
   ]
  },
  {
   "cell_type": "markdown",
   "id": "3a8f590b",
   "metadata": {},
   "source": [
    "### 2.- Recollida de dades en base el test d'hipòtesi."
   ]
  },
  {
   "cell_type": "code",
   "execution_count": 34,
   "id": "8e0ef46c",
   "metadata": {},
   "outputs": [
    {
     "name": "stdout",
     "output_type": "stream",
     "text": [
      "μ_Eur:GA    50.877551\n",
      "dtype: float64 μ_Ger:53.0\n"
     ]
    }
   ],
   "source": [
    "GA_lligues_Eur=Lligues[['GA']]\n",
    "GA_lliga_Ger=Lligues[Lligues['Country']=='GER' ]['GA']\n",
    "\n",
    "μ_Eur=GA_lligues_Eur.mean()\n",
    "μ_Ger=GA_lliga_Ger.mean()\n",
    "S_Ger=np.std(GA_lliga_Ger)\n",
    "n_Ger=18 #Total de la mostra\n",
    "print('μ_Eur:'+str(μ_Eur)+' μ_Ger:'+str(μ_Ger))"
   ]
  },
  {
   "cell_type": "markdown",
   "id": "9b414ec8",
   "metadata": {},
   "source": [
    "### 3.- Realització del Test Estadístic"
   ]
  },
  {
   "cell_type": "code",
   "execution_count": 35,
   "id": "1b78a5e2",
   "metadata": {},
   "outputs": [
    {
     "name": "stdout",
     "output_type": "stream",
     "text": [
      "p_value: [0.20801061] T_Scorea: GA   -0.833681\n",
      "dtype: float64\n"
     ]
    },
    {
     "data": {
      "text/plain": [
       "0.2266283049085413"
      ]
     },
     "execution_count": 35,
     "metadata": {},
     "output_type": "execute_result"
    }
   ],
   "source": [
    "T_Score=(μ_Eur-μ_Ger)/(S_Ger/np.sqrt(n_Ger))\n",
    "p_value=t.sf(abs(T_Score), df=n_Ger-1) #trobem el p_value\n",
    "print('p_value:',p_value,'T_Scorea:',T_Score)\n",
    "0.2266283049085413"
   ]
  },
  {
   "cell_type": "markdown",
   "id": "ef3cc870",
   "metadata": {},
   "source": [
    "### 4.- Decissió sobre la Hipòtesi Nul.la/Alternativa"
   ]
  },
  {
   "cell_type": "markdown",
   "id": "3eb5bdfa",
   "metadata": {},
   "source": [
    "  Com qu'el p_value (0.2080) és més gran que el valor α: 0.05, acceptem la Hipòtesi Nul.la --> μ_Ger = μ_Eur "
   ]
  },
  {
   "cell_type": "markdown",
   "id": "d7d11d1d",
   "metadata": {},
   "source": [
    "# Exercici 2\n",
    "#### Amb el mateix dataset selecciona dos altres atributs del conjunt de dades. Calcula els p-valors i digues si rebutgen la hipòtesi nul·la agafant un alfa de 5%."
   ]
  },
  {
   "cell_type": "markdown",
   "id": "da9c3d29",
   "metadata": {},
   "source": [
    "### **1.-** Formular la Hipòtesi Nul.la i la Alterativa:\n",
    "**Ho:** Volem confirmar si la mitja de GA es igual a la mitja de GD -->> μ_GA = μ_GD  \n",
    "**Ha:** Les mitjes de GA i GD no són iguals  -->> μ_GA != μ_GD "
   ]
  },
  {
   "cell_type": "markdown",
   "id": "4c2044e9",
   "metadata": {},
   "source": [
    "### 2.- Recollida de dades en base el test d'hipòtesi."
   ]
  },
  {
   "cell_type": "code",
   "execution_count": 36,
   "id": "e8c9368d",
   "metadata": {},
   "outputs": [],
   "source": [
    "from scipy.stats import shapiro\n",
    "GA = Lligues[['GA']]\n",
    "GD = Lligues[['GD']]"
   ]
  },
  {
   "cell_type": "code",
   "execution_count": 37,
   "id": "ab47a4bb",
   "metadata": {},
   "outputs": [],
   "source": [
    "#Shapiro-Wilk Normality Test\n",
    "def Distri_Normal(data): \n",
    "    stat, p = shapiro(data)\n",
    "    print('stat=%.3f, p=%.3f' % (stat, p))\n",
    "    if p > 0.05:\n",
    "        print('Probably Gaussian')\n",
    "    else:\n",
    "        print('Probably not Gaussian')"
   ]
  },
  {
   "cell_type": "code",
   "execution_count": 38,
   "id": "1aaebaa9",
   "metadata": {},
   "outputs": [
    {
     "name": "stdout",
     "output_type": "stream",
     "text": [
      "stat=0.983, p=0.243\n",
      "Probably Gaussian\n"
     ]
    }
   ],
   "source": [
    "Distri_Normal(GA)"
   ]
  },
  {
   "cell_type": "code",
   "execution_count": 39,
   "id": "37a24ec3",
   "metadata": {},
   "outputs": [
    {
     "name": "stdout",
     "output_type": "stream",
     "text": [
      "stat=0.986, p=0.396\n",
      "Probably Gaussian\n"
     ]
    }
   ],
   "source": [
    "Distri_Normal(GD)"
   ]
  },
  {
   "cell_type": "markdown",
   "id": "ab86a6eb",
   "metadata": {},
   "source": [
    "### 3.- Realització del Test Estadístic"
   ]
  },
  {
   "cell_type": "code",
   "execution_count": 40,
   "id": "ea88e426",
   "metadata": {},
   "outputs": [
    {
     "name": "stdout",
     "output_type": "stream",
     "text": [
      "stat=16.899, p_value=0.000\n",
      "Probably different distributions\n"
     ]
    }
   ],
   "source": [
    "# Example of the Student's t-test\n",
    "from scipy.stats import ttest_ind\n",
    "data1 = GA\n",
    "data2 = GD\n",
    "stat, p = ttest_ind(data1, data2)\n",
    "print('stat=%.3f, p_value=%.3f' % (stat, p))\n",
    "if p > 0.05:\n",
    "\tprint('Probably the same distribution')\n",
    "else:\n",
    "\tprint('Probably different distributions')"
   ]
  },
  {
   "cell_type": "markdown",
   "id": "91f95446",
   "metadata": {},
   "source": [
    "### 4.- Decissió sobre la Hipòtesi Nul.la/Alternativa"
   ]
  },
  {
   "cell_type": "markdown",
   "id": "5f8c990d",
   "metadata": {},
   "source": [
    "  Com qu'el p_value (0.000) és zero i per tant inferior a α: 0.05, rebutgem la Hipòtesi Nul.la i validem la Hipòtesi alternativa --> μ_GA != μ_GD "
   ]
  },
  {
   "cell_type": "markdown",
   "id": "8aafb775",
   "metadata": {},
   "source": [
    "# Exercici 3\n",
    "#### Continua amb el conjunt de dades adjunt i selecciona tres atributs del conjunt de dades. Calcula el p-valor i digues si rebutja la hipòtesi nul·la agafant un alfa de 5%."
   ]
  },
  {
   "cell_type": "markdown",
   "id": "430f940e",
   "metadata": {},
   "source": [
    "### **1.-** Formular la Hipòtesi Nul.la i la Alterativa:\n",
    "**Ho:** Volem confirmar si la mitja de GA, GD i xGD són iguals -->> μ_GA = μ_GD  = μ_xGD  \n",
    "**Ha:** Les mitjes de GA, GD i xGD no són iguals"
   ]
  },
  {
   "cell_type": "markdown",
   "id": "4042d9e7",
   "metadata": {},
   "source": [
    "### 2.- Recollida de dades en base el test d'hipòtesi."
   ]
  },
  {
   "cell_type": "code",
   "execution_count": 41,
   "id": "e2bc0ff2",
   "metadata": {},
   "outputs": [],
   "source": [
    "from scipy.stats import shapiro\n",
    "xGD = Lligues[['xGD']]"
   ]
  },
  {
   "cell_type": "code",
   "execution_count": 42,
   "id": "c1867268",
   "metadata": {},
   "outputs": [
    {
     "name": "stdout",
     "output_type": "stream",
     "text": [
      "stat=0.979, p=0.128\n",
      "Probably Gaussian\n"
     ]
    }
   ],
   "source": [
    "Distri_Normal(Lligues[['xGD']])"
   ]
  },
  {
   "cell_type": "markdown",
   "id": "13c93b49",
   "metadata": {},
   "source": [
    "### 3.- Realització del Test Estadístic"
   ]
  },
  {
   "cell_type": "code",
   "execution_count": 44,
   "id": "f4f1863f",
   "metadata": {},
   "outputs": [
    {
     "name": "stdout",
     "output_type": "stream",
     "text": [
      "stat=196.980, p_value=0.000\n",
      "Probably different distributions\n"
     ]
    }
   ],
   "source": [
    "# Example of the Analysis of Variance Test\n",
    "from scipy.stats import f_oneway\n",
    "data1 = GA\n",
    "data2 = GD\n",
    "data3 = xGD\n",
    "stat, p = f_oneway(data1, data2, data3)\n",
    "print('stat=%.3f, p_value=%.3f' % (stat, p))\n",
    "if p > 0.05:\n",
    "\tprint('Probably the same distribution')\n",
    "else:\n",
    "\tprint('Probably different distributions')"
   ]
  },
  {
   "cell_type": "markdown",
   "id": "14786696",
   "metadata": {},
   "source": [
    "### 4.- Decissió sobre la Hipòtesi Nul.la/Alternativa"
   ]
  },
  {
   "cell_type": "markdown",
   "id": "b93dd080",
   "metadata": {},
   "source": [
    "  Com qu'el p_value (0.000) és zero i per tant inferior a α: 0.05, rebutgem la Hipòtesi Nul.la i validem la Hipòtesi alternativa que indica que una o més mitjes són diferents."
   ]
  }
 ],
 "metadata": {
  "kernelspec": {
   "display_name": "Python 3 (ipykernel)",
   "language": "python",
   "name": "python3"
  },
  "language_info": {
   "codemirror_mode": {
    "name": "ipython",
    "version": 3
   },
   "file_extension": ".py",
   "mimetype": "text/x-python",
   "name": "python",
   "nbconvert_exporter": "python",
   "pygments_lexer": "ipython3",
   "version": "3.9.12"
  }
 },
 "nbformat": 4,
 "nbformat_minor": 5
}
